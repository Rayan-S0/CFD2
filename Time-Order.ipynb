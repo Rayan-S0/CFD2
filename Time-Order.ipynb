{
 "cells": [
  {
   "cell_type": "code",
   "execution_count": 1,
   "metadata": {},
   "outputs": [],
   "source": [
    "import numpy as np\n",
    "import matplotlib.pyplot as plt\n",
    "from mpl_toolkits.mplot3d import Axes3D \n",
    "from matplotlib.animation import FuncAnimation\n",
    "from IPython import display\n",
    "from math import sin,pi,exp, log\n",
    "\n",
    "\n",
    "def Rayan(N,cfl,endtime,space_dis,time_dis,initials):\n",
    "#################################################user defined############################################\n",
    "# cfl = 0.3\n",
    "# N = 20\n",
    "# endtime = 3\n",
    "# space_dis = 'cd2' # e or cd2\n",
    "# time_dis = 'euler' #  'cn' or 'rk4' or 'euler'\n",
    "# initials = 's1'# s1 or s3\n",
    "#################################################End ofuser defined############################################\n",
    "\n",
    "#################################################PREPROCCES DEFINITIONS############################################\n",
    "    h = 2*pi/N\n",
    "    delt = cfl\n",
    "    t = np.arange(0,endtime+delt,delt)\n",
    "    x = np.linspace(0,2*pi-h,N)\n",
    "    y = np.linspace(0,2*pi-h,N)\n",
    "    frames = len(t)\n",
    "    S= np.zeros((frames,N, N)) \n",
    "    x, y = np.meshgrid(x, y)\n",
    "\n",
    "    #################################################END OF PREPROCCES DEFINITIONS############################################\n",
    "\n",
    "    ######################################Initial shape conditions###################################\n",
    "    if initials == 's1':\n",
    "        S[0:,:] = np.sin(x)+np.sin(y)\n",
    "    elif initials == 's3':\n",
    "        S[0:,:] = np.sin(x)+np.sin(3*y)\n",
    "\n",
    "    ######################################End of Initial shape conditions###################################\n",
    "\n",
    "\n",
    "    #################################################DERIVATIVES############################################\n",
    "    if space_dis=='cd2' and time_dis=='cn':        \n",
    "        M = np.zeros([N,N])\n",
    "        for i in range(N-2):        \n",
    "            M[i,i+1] = 1\n",
    "            M[i+1,i] = 1\n",
    "            M[i,i] = -2\n",
    "        M[0,N-1] = 1\n",
    "        M[N-1,N-2] = 1\n",
    "        M[N-1,0] = 1\n",
    "        M[N-2,N-1] = 1\n",
    "        M[N-1,N-1] = -2\n",
    "        M[N-2,N-2] = -2\n",
    "        M = (1/(h**2))*M\n",
    "        YM = np.zeros([N**2,N**2])\n",
    "        for i in range (N**2):\n",
    "            YM[i,i] = -2\n",
    "        for i in range(N**2-N):\n",
    "            YM[i,i+N] = 1\n",
    "            YM[i+N,i] = 1\n",
    "        for i in range(N):\n",
    "            YM[i,i+N**2-N] = 1\n",
    "            YM[N**2-1-i,N-i-1] = 1\n",
    "        YM = (1/(h**2))*YM          \n",
    "        BIGM = np.zeros([N**2,N**2])\n",
    "        for i in range(N):\n",
    "            BIGM[i*N:i*N+N,i*N:i*N+N] = M\n",
    "        def derivate(N):\n",
    "            return BIGM, YM\n",
    "\n",
    "    else:\n",
    "        M = np.zeros([N,N])\n",
    "        for i in range(N-2):  \n",
    "            M[i,i+1] = 1\n",
    "            M[i+1,i] = 1\n",
    "            M[i,i] = -2\n",
    "        M[0,N-1] = 1\n",
    "        M[N-1,N-2] = 1\n",
    "        M[N-1,0] = 1\n",
    "        M[N-2,N-1] = 1\n",
    "        M[N-1,N-1] = -2\n",
    "        M[N-2,N-2] = -2\n",
    "        M = (1/(h**2))*M\n",
    "        BIGM = np.zeros([N**2,N**2])\n",
    "        for i in range(N):\n",
    "            BIGM[i*N:i*N+N,i*N:i*N+N] = M\n",
    "        def derivate(N,s):           \n",
    "            ################ DX\n",
    "            sx = s.flatten()\n",
    "            dx = BIGM.dot(sx)\n",
    "            dx = np.reshape(dx, (-1, N))\n",
    "            ###################DY\n",
    "            sy = np.transpose(s)\n",
    "            sy = sy.flatten()\n",
    "            dy = BIGM.dot(sy)\n",
    "            dy = np.reshape(dy, (-1, N))\n",
    "            dy = np.transpose(dy)\n",
    "            return dx, dy\n",
    "    #################################################END OF DERIVATIVES############################################\n",
    "\n",
    "\n",
    "\n",
    "\n",
    "    if time_dis == 'euler':\n",
    "        def solve():      \n",
    "            for i in range(frames-1):\n",
    "                S[i+1:,:] = S[i,:,:]+delt*(derivate(N,S[i,:,:])[0]+derivate(N,S[i,:,:])[1])    \n",
    "            return S\n",
    "    elif time_dis=='rk4':    \n",
    "        def solve():\n",
    "            for i in range(frames-1):\n",
    "                k1x = derivate(N,S[i,:,:])[0]\n",
    "                k1y = derivate(N,S[i,:,:])[1]\n",
    "                u2_1 = S[i,:,:] +0.5*delt*(k1x+k1y)\n",
    "                k2x = derivate(N,u2_1)[0]\n",
    "                k2y = derivate(N,u2_1)[1]\n",
    "                u2_2 = S[i,:,:] +0.5*delt*(k2x+k2y)\n",
    "                k3x = derivate(N,u2_2)[0]\n",
    "                k3y = derivate(N,u2_2)[1]\n",
    "                u3 = S[i,:,:] +delt*(k3x+k3y)\n",
    "                k4x = derivate(N,u3)[0]\n",
    "                k4y = derivate(N,u3)[1]\n",
    "                S[i+1,:,:] = S[i,:,:] + (1/6)*delt*(k1x+k1y +2*k2x+2*k2y+2*k3x+2*k3y+k4x+k4y)\n",
    "            return S\n",
    "    elif time_dis=='e': \n",
    "        if initials == 's1':\n",
    "            def solve():\n",
    "                for i in range(frames-1):\n",
    "                    S[i+1,:,:] = S[0,:,:]*exp(-t[i+1])\n",
    "                return S\n",
    "        elif initials == 's3':\n",
    "            def solve():\n",
    "                for i in range(frames-1):\n",
    "                    S[i+1,:,:] =  np.sin(x)*exp(-t[i+1])+np.sin(3*y)*exp(-t[i+1]*9)\n",
    "                return S\n",
    "    elif time_dis=='cn':\n",
    "        def  solve():\n",
    "            I =  np.identity(N**2)\n",
    "            A1 = I-0.5*delt*derivate(N)[0]\n",
    "            B1 = I+0.5*delt*derivate(N)[1]\n",
    "            C1 = I-0.5*delt*derivate(N)[1]\n",
    "            D1 = I+0.5*delt*derivate(N)[0]\n",
    "            A1 = np.linalg.inv(A1)\n",
    "            C1 = np.linalg.inv(C1)\n",
    "            s = S[0,:,:].flatten()\n",
    "            for i in range(frames-1):\n",
    "                dummy = B1.dot(s)\n",
    "                dummy = A1.dot(dummy)\n",
    "                dummy = D1.dot(dummy)\n",
    "                s = C1.dot(dummy)\n",
    "                S[i+1,:,:] = np.reshape(s, (-1, N))\n",
    "            return S\n",
    "    \n",
    "    \n",
    "    S = solve()\n",
    "    return S,frames,delt\n",
    "\n"
   ]
  },
  {
   "cell_type": "code",
   "execution_count": 29,
   "metadata": {},
   "outputs": [
    {
     "data": {
      "text/plain": [
       "Text(0.5, 1.0, 'CD2,Euler, Time order verification, L1')"
      ]
     },
     "execution_count": 29,
     "metadata": {},
     "output_type": "execute_result"
    },
    {
     "data": {
      "image/png": "[encoded data removed]",
      "text/plain": [
       "<Figure size 432x288 with 1 Axes>"
      ]
     },
     "metadata": {
      "needs_background": "light"
     },
     "output_type": "display_data"
    }
   ],
   "source": [
    "#def Rayan(N,cfl,endtime,space_dis,time_dis,initials):\n",
    "N=20\n",
    "endtime = 1\n",
    "shape = 's1'\n",
    "\n",
    "e,ne,dtdum = Rayan(N,0.1,endtime,'cd2','e',shape)\n",
    "e2,ne2,dtdum = Rayan(N,0.05,endtime,'cd2','e',shape)\n",
    "e3,ne3,dtdum = Rayan(N,0.01,endtime,'cd2','e',shape)\n",
    "euler,neuler,dt = Rayan(N,0.1,endtime,'cd2','euler',shape)\n",
    "euler1,neuler1,dt1 = Rayan(N,0.05,endtime,'cd2','euler',shape)\n",
    "euler2,neuler2,dt2 = Rayan(N,0.01,endtime,'cd2','euler',shape)\n",
    "\n",
    "E = np.average(np.absolute(e[ne-1,:,:].flatten()-euler[neuler-1,:,:].flatten()))\n",
    "E1 = np.average(np.absolute(e2[ne2-1,:,:].flatten()-euler1[neuler1-1,:,:].flatten()))\n",
    "E2 = np.average(np.absolute(e3[ne3-1,:,:].flatten()-euler2[neuler2-1,:,:].flatten()))\n",
    "\n",
    "plt.scatter([log(dt),log(dt1),log(dt2)],[log(E),log(E1),log(E2)])\n",
    "plt.ylabel('LOG(Error)')\n",
    "plt.xlabel('LOG(Delt)')\n",
    "plt.title('CD2,Euler, Time order verification, L1')\n"
   ]
  },
  {
   "cell_type": "code",
   "execution_count": 30,
   "metadata": {},
   "outputs": [
    {
     "data": {
      "text/plain": [
       "Text(0.5, 1.0, 'CD2,Euler, Time order verification,Linfi')"
      ]
     },
     "execution_count": 30,
     "metadata": {},
     "output_type": "execute_result"
    },
    {
     "data": {
      "image/png": "[encoded data removed]",
      "text/plain": [
       "<Figure size 432x288 with 1 Axes>"
      ]
     },
     "metadata": {
      "needs_background": "light"
     },
     "output_type": "display_data"
    }
   ],
   "source": [
    "#def Rayan(N,cfl,endtime,space_dis,time_dis,initials):\n",
    "N=20\n",
    "endtime = 1\n",
    "shape = 's1'\n",
    "\n",
    "e,ne,dtdum = Rayan(N,0.1,endtime,'cd2','e',shape)\n",
    "e2,ne2,dtdum = Rayan(N,0.05,endtime,'cd2','e',shape)\n",
    "e3,ne3,dtdum = Rayan(N,0.01,endtime,'cd2','e',shape)\n",
    "euler,neuler,dt = Rayan(N,0.1,endtime,'cd2','euler',shape)\n",
    "euler1,neuler1,dt1 = Rayan(N,0.05,endtime,'cd2','euler',shape)\n",
    "euler2,neuler2,dt2 = Rayan(N,0.01,endtime,'cd2','euler',shape)\n",
    "\n",
    "E = (np.absolute(e[ne-1,:,:].flatten()-euler[neuler-1,:,:].flatten())).max()\n",
    "E1 = (np.absolute(e2[ne2-1,:,:].flatten()-euler1[neuler1-1,:,:].flatten())).max()\n",
    "E2 = (np.absolute(e3[ne3-1,:,:].flatten()-euler2[neuler2-1,:,:].flatten())).max()\n",
    "\n",
    "plt.scatter([log(dt),log(dt1),log(dt2)],[log(E),log(E1),log(E2)])\n",
    "plt.ylabel('LOG(Error)')\n",
    "plt.xlabel('LOG(Delt)')\n",
    "plt.title('CD2,Euler, Time order verification,Linfi')\n"
   ]
  },
  {
   "cell_type": "code",
   "execution_count": null,
   "metadata": {},
   "outputs": [],
   "source": []
  }
 ],
 "metadata": {
  "kernelspec": {
   "display_name": "Python 3",
   "language": "python",
   "name": "python3"
  },
  "language_info": {
   "codemirror_mode": {
    "name": "ipython",
    "version": 3
   },
   "file_extension": ".py",
   "mimetype": "text/x-python",
   "name": "python",
   "nbconvert_exporter": "python",
   "pygments_lexer": "ipython3",
   "version": "3.7.6"
  }
 },
 "nbformat": 4,
 "nbformat_minor": 4
}
